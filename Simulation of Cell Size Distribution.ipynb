{
 "cells": [
  {
   "cell_type": "markdown",
   "id": "325c940b",
   "metadata": {},
   "source": [
    "# Cell Size Distribution of Microbial Communities"
   ]
  },
  {
   "cell_type": "code",
   "execution_count": 4,
   "id": "5b2f4d41",
   "metadata": {},
   "outputs": [],
   "source": [
    "import matplotlib.pyplot as p\n",
    "import numpy as np\n",
    "from numpy import random\n",
    "init_printing() # for pretty-printing equations etc"
   ]
  },
  {
   "cell_type": "markdown",
   "id": "e4a6015b",
   "metadata": {},
   "source": [
    "### Basic Lotka-Volterra model for multiple species"
   ]
  },
  {
   "cell_type": "markdown",
   "id": "7e01d416",
   "metadata": {},
   "source": [
    "The adapted equation of the Lotka-Volterra model is here:<br>\n",
    "<br>\n",
    "$\\frac{dN}{dt} = N_{i}(r_{max,i} + \\sum \\limits _{j}a_{ij}N_{j})$<br>\n",
    "Where $N_{i}$ is the total biomass of species i, $r_{max,i}$ is the maximal growth rate of species i and $a_{ij}$ is the per capita competitive effect of species j on species i. $r_{max}$ and $a_{ij}$ scale with the average mass of a bacterium of that species (more info later). $a_{ii}$ represents the inverse of the carrying capacity for species i, which is usually -1."
   ]
  },
  {
   "cell_type": "markdown",
   "id": "2bfefb89",
   "metadata": {},
   "source": [
    "Parameter|Dimension|Possible Values\n",
    "-----|-----|----- \n",
    "$N$|$M$|-\n",
    "$r_{max}$|$T^{-1}$|$10^{-3}$ to $1$\n",
    "$a_{ij}$|$M^{-1}$|$10^{-3}$ to $10^{3}$\n"
   ]
  },
  {
   "cell_type": "code",
   "execution_count": 12,
   "id": "98b5a87e",
   "metadata": {},
   "outputs": [
    {
     "data": {
      "image/png": "[encoded data removed]",
      "text/latex": [
       "$\\displaystyle \\left( \\left[ \\frac{- N_{1} a_{11} - r_{m1}}{a_{12}}\\right], \\  \\left[ \\frac{- N_{2} a_{22} - r_{m2}}{a_{21}}\\right]\\right)$"
      ],
      "text/plain": [
       "⎛⎡-N₁⋅a₁₁ - rₘ₁⎤  ⎡-N₂⋅a₂₂ - rₘ₂⎤⎞\n",
       "⎜⎢─────────────⎥, ⎢─────────────⎥⎟\n",
       "⎝⎣     a₁₂     ⎦  ⎣     a₂₁     ⎦⎠"
      ]
     },
     "execution_count": 12,
     "metadata": {},
     "output_type": "execute_result"
    }
   ],
   "source": [
    "#Solution at equilibrium (dN/dt = 0) for a 2-species system\n",
    "r_m1, r_m2, N1, N2, a11, a12, a21, a22, t = var(\"r_m1, r_m2, N1, N2, a11, a12, a21, a22, t\", real = True)\n",
    "dN1_dt = N1*(r_m1 + a11*N1 + a12*N2)\n",
    "dN2_dt = N2*(r_m2 + a21*N1 + a22*N2)\n",
    "\n",
    "N1_eqlb = Eq(dN1_dt,0)\n",
    "N2_eqlb = Eq(dN2_dt,0)\n",
    "\n",
    "N1_eqlb_sol = solve(N1_eqlb, N2)\n",
    "N2_eqlb_sol = solve(N2_eqlb, N1)\n",
    "\n",
    "N1_eqlb_sol, N2_eqlb_sol"
   ]
  },
  {
   "cell_type": "code",
   "execution_count": 5,
   "id": "bb040c80",
   "metadata": {},
   "outputs": [],
   "source": [
    "#define a function to calculate the sum in the equation\n",
    "def sumf(Competition, Species, i):\n",
    "    x = 0\n",
    "    for j in range(len(Species)):\n",
    "        x = x + Competition[i][j]*Species[j]\n",
    "    return(x)"
   ]
  },
  {
   "cell_type": "code",
   "execution_count": 16,
   "id": "0b515005",
   "metadata": {},
   "outputs": [
    {
     "name": "stdout",
     "output_type": "stream",
     "text": [
      "[[-1.         -0.37275192 -0.13348473  0.21802038  0.26309471]\n",
      " [-0.04676132 -1.          0.08739784 -0.21111375 -0.44416912]\n",
      " [-0.07576833 -0.0683908  -1.         -0.36200939 -0.43093257]\n",
      " [-0.13016447  0.03783074  0.37757303 -1.          0.48343699]\n",
      " [ 0.09876811 -0.30350823  0.46888216 -0.08046299 -1.        ]]\n"
     ]
    },
    {
     "data": {
      "text/plain": [
       "<matplotlib.legend.Legend at 0x13d70bf02e0>"
      ]
     },
     "execution_count": 16,
     "metadata": {},
     "output_type": "execute_result"
    },
    {
     "data": {
      "image/png": "[encoded data removed]",
      "text/plain": [
       "<Figure size 432x288 with 1 Axes>"
      ]
     },
     "metadata": {},
     "output_type": "display_data"
    }
   ],
   "source": [
    "#parameters\n",
    "t_vec = np.arange(0, 100., 0.01)\n",
    "Species = 5 #number of species in the system\n",
    "r_m = np.ones(Species) #max growth rate of each species\n",
    "a = (random.rand(Species,Species)-0.5) #competition matrix\n",
    "for i in range(5):\n",
    "    a[i][i] = -1 #Diagonals = -1 (Carrying Capacity)\n",
    "\n",
    "#initial condition\n",
    "N10N20 = np.ones(Species)\n",
    "\n",
    "#model and solution\n",
    "def LV(N1N2, t, r_m2, a):\n",
    "    dN_dt = np.empty(Species)\n",
    "    for i in range(Species):\n",
    "        dN_dt[i] = N1N2[i]*r_m[i]*(1 + sumf(a, N1N2, i))\n",
    "    return dN_dt\n",
    "\n",
    "N1N2_vec = integrate.odeint(LV, N10N20, t_vec, (r_m, a))\n",
    "\n",
    "print(a)\n",
    "#plot\n",
    "p.style.use('seaborn-darkgrid')\n",
    "p.plot(t_vec, N1N2_vec)\n",
    "p.xlabel('Time')\n",
    "p.ylabel('Population size')\n",
    "p.legend(['Species 1 ($N1$)', 'Species 2 ($N2$)', 'Species 3 ($N3$)', 'Species 4 ($N$)', 'Species 5 ($N$)'], loc='best')"
   ]
  },
  {
   "cell_type": "markdown",
   "id": "b87cee3f",
   "metadata": {},
   "source": [
    "### Temperature-corrected Lotka-Volterra model with mass scaling"
   ]
  },
  {
   "cell_type": "markdown",
   "id": "bb42327e",
   "metadata": {},
   "source": [
    "$\\frac{dN}{dt} = N_{i}(Y_{0}m_{i}^{\\alpha}e^{\\frac{-E}{kT}} + \\sum \\limits _{j}a_{ij}(m_{i},T)N_{j})$<br>"
   ]
  },
  {
   "cell_type": "markdown",
   "id": "a784d1ea",
   "metadata": {},
   "source": [
    "Parameter|Dimension|Possible Values\n",
    "-----|-----|----- \n",
    "$N$|$M$|-\n",
    "$m$|$M$|~$10^{-12}$ g\n",
    "$\\alpha$|-|$-0.25$\n",
    "$Y_{0}$|$(TM)^{-1}$|$10^{-6}$ to $1$ ?\n",
    "$e^{\\frac{-E}{kT}}$|-|-\n",
    "$a_{ij}(m_{i},T)$|$M^{-1}$|$10^{-3}$ to $10^{3}$"
   ]
  },
  {
   "cell_type": "code",
   "execution_count": null,
   "id": "908596b0",
   "metadata": {},
   "outputs": [],
   "source": []
  }
 ],
 "metadata": {
  "kernelspec": {
   "display_name": "Python 3 (ipykernel)",
   "language": "python",
   "name": "python3"
  },
  "language_info": {
   "codemirror_mode": {
    "name": "ipython",
    "version": 3
   },
   "file_extension": ".py",
   "mimetype": "text/x-python",
   "name": "python",
   "nbconvert_exporter": "python",
   "pygments_lexer": "ipython3",
   "version": "3.9.7"
  }
 },
 "nbformat": 4,
 "nbformat_minor": 5
}
