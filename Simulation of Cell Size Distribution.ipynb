{
 "cells": [
  {
   "cell_type": "markdown",
   "id": "325c940b",
   "metadata": {},
   "source": [
    "# Cell Size Distribution of Microbial Communities"
   ]
  },
  {
   "cell_type": "code",
   "execution_count": 34,
   "id": "5b2f4d41",
   "metadata": {},
   "outputs": [
    {
     "name": "stdout",
     "output_type": "stream",
     "text": [
      "Collecting package metadata (current_repodata.json): ...working... done\n",
      "Solving environment: ...working... done\n",
      "\n",
      "# All requested packages already installed.\n",
      "\n"
     ]
    }
   ],
   "source": [
    "import matplotlib.pyplot as p\n",
    "import numpy as np\n",
    "from numpy import random\n",
    "import matplotlib.pyplot as plt\n",
    "import seaborn as sns\n",
    "import sys\n",
    "!conda install --yes --prefix {sys.prefix} sympy\n",
    "from sympy import *\n",
    "import scipy as sc\n",
    "init_printing() # for pretty-printing equations etc\n",
    "from scipy import integrate\n",
    "import math"
   ]
  },
  {
   "cell_type": "markdown",
   "id": "e4a6015b",
   "metadata": {},
   "source": [
    "### Basic Lotka-Volterra model for multiple species"
   ]
  },
  {
   "cell_type": "markdown",
   "id": "7e01d416",
   "metadata": {},
   "source": [
    "The adapted equation of the Lotka-Volterra model is here:<br>\n",
    "<br>\n",
    "$\\frac{dN}{dt} = N_{i}(r_{max,i} + \\sum \\limits _{j}a_{ij}N_{j})$<br>\n",
    "Where $N_{i}$ is the total biomass of species i, $r_{max,i}$ is the maximal growth rate of species i and $a_{ij}$ is the per capita competitive effect of species j on species i. $r_{max}$ and $a_{ij}$ scale with the average mass of a bacterium of that species (more info later). $a_{ii}$ represents the inverse of the carrying capacity for species i, which is usually -1."
   ]
  },
  {
   "cell_type": "markdown",
   "id": "2bfefb89",
   "metadata": {},
   "source": [
    "Parameter|Dimension|Possible Values\n",
    "-----|-----|----- \n",
    "$N$|$M$|-\n",
    "$r_{max}$|$T^{-1}$|$10^{-3}$ to $1$\n",
    "$a_{ij}$|$M^{-1}$|$10^{-3}$ to $10^{3}$\n"
   ]
  },
  {
   "cell_type": "code",
   "execution_count": 2,
   "id": "98b5a87e",
   "metadata": {},
   "outputs": [
    {
     "data": {
      "image/png": "[encoded data removed]",
      "text/latex": [
       "$\\displaystyle \\left( \\left[ \\frac{- N_{1} a_{11} - r_{m1}}{a_{12}}\\right], \\  \\left[ \\frac{- N_{2} a_{22} - r_{m2}}{a_{21}}\\right]\\right)$"
      ],
      "text/plain": [
       "⎛⎡-N₁⋅a₁₁ - rₘ₁⎤  ⎡-N₂⋅a₂₂ - rₘ₂⎤⎞\n",
       "⎜⎢─────────────⎥, ⎢─────────────⎥⎟\n",
       "⎝⎣     a₁₂     ⎦  ⎣     a₂₁     ⎦⎠"
      ]
     },
     "execution_count": 2,
     "metadata": {},
     "output_type": "execute_result"
    }
   ],
   "source": [
    "#Solution at equilibrium (dN/dt = 0) for a 2-species system\n",
    "r_m1, r_m2, N1, N2, a11, a12, a21, a22, t = var(\"r_m1, r_m2, N1, N2, a11, a12, a21, a22, t\", real = True)\n",
    "dN1_dt = N1*(r_m1 + a11*N1 + a12*N2)\n",
    "dN2_dt = N2*(r_m2 + a21*N1 + a22*N2)\n",
    "\n",
    "N1_eqlb = Eq(dN1_dt,0)\n",
    "N2_eqlb = Eq(dN2_dt,0)\n",
    "\n",
    "N1_eqlb_sol = solve(N1_eqlb, N2)\n",
    "N2_eqlb_sol = solve(N2_eqlb, N1)\n",
    "\n",
    "N1_eqlb_sol, N2_eqlb_sol"
   ]
  },
  {
   "cell_type": "code",
   "execution_count": 5,
   "id": "bb040c80",
   "metadata": {},
   "outputs": [],
   "source": [
    "#define a function to calculate the sum in the equation\n",
    "def sumf(Competition, Species, i):\n",
    "    x = 0\n",
    "    for j in range(len(Species)):\n",
    "        x = x + Competition[i][j]*Species[j]\n",
    "    return(x)"
   ]
  },
  {
   "cell_type": "code",
   "execution_count": 9,
   "id": "0b515005",
   "metadata": {},
   "outputs": [
    {
     "name": "stdout",
     "output_type": "stream",
     "text": [
      "[[-1.          0.49963496 -0.45573036  0.30764114  0.01286522]\n",
      " [-0.42551304 -1.          0.09228769  0.36882879 -0.03010672]\n",
      " [-0.11416348 -0.00547781 -1.         -0.24967338  0.34024395]\n",
      " [ 0.05560146  0.05244078 -0.08329486 -1.         -0.44776327]\n",
      " [-0.01992566 -0.32860506  0.46403369 -0.03371221 -1.        ]]\n"
     ]
    },
    {
     "data": {
      "text/plain": [
       "<matplotlib.legend.Legend at 0x177ba4d42e0>"
      ]
     },
     "execution_count": 9,
     "metadata": {},
     "output_type": "execute_result"
    },
    {
     "data": {
      "image/png": "[encoded data removed]",
      "text/plain": [
       "<Figure size 432x288 with 1 Axes>"
      ]
     },
     "metadata": {},
     "output_type": "display_data"
    }
   ],
   "source": [
    "#parameters\n",
    "t_vec = np.arange(0, 100., 0.01)\n",
    "Species = 5 #number of species in the system\n",
    "r_m = np.ones(Species) #max growth rate of each species\n",
    "a = (random.rand(Species,Species)-0.5) #competition matrix\n",
    "for i in range(5):\n",
    "    a[i][i] = -1 #Diagonals = -1 (Carrying Capacity)\n",
    "\n",
    "#initial condition\n",
    "N10N20 = np.ones(Species)\n",
    "\n",
    "#model and solution\n",
    "def LV(N1N2, t, r_m2, a):\n",
    "    dN_dt = np.empty(Species)\n",
    "    for i in range(Species):\n",
    "        dN_dt[i] = N1N2[i]*r_m[i]*(1 + sumf(a, N1N2, i))\n",
    "    return dN_dt\n",
    "\n",
    "N1N2_vec = integrate.odeint(LV, N10N20, t_vec, (r_m, a))\n",
    "\n",
    "print(a)\n",
    "#plot\n",
    "p.style.use('seaborn-darkgrid')\n",
    "p.plot(t_vec, N1N2_vec)\n",
    "p.xlabel('Time')\n",
    "p.ylabel('Population size')\n",
    "p.legend(['Species 1 ($N1$)', 'Species 2 ($N2$)', 'Species 3 ($N3$)', 'Species 4 ($N$)', 'Species 5 ($N$)'], loc='best')"
   ]
  },
  {
   "cell_type": "markdown",
   "id": "b87cee3f",
   "metadata": {},
   "source": [
    "### Temperature-corrected Lotka-Volterra model with mass scaling"
   ]
  },
  {
   "cell_type": "markdown",
   "id": "bb42327e",
   "metadata": {},
   "source": [
    "$\\frac{dN}{dt} = N_{i}(Y_{0}m_{i}^{\\alpha-1}e^{\\frac{-E}{kT}} + \\sum \\limits _{j}a_{ij}(m_{i},T)N_{j})$<br>"
   ]
  },
  {
   "cell_type": "markdown",
   "id": "a784d1ea",
   "metadata": {},
   "source": [
    "Parameter|Dimension|Possible Values\n",
    "-----|-----|----- \n",
    "$N$|$M$|-\n",
    "$m$|$M$|~$10^{-12}$ g\n",
    "$\\alpha-1$|-|$0.8$\n",
    "$Y_{0}$|$(TM)^{-1}$|$10^{18}$ to $10^{21}$ ?\n",
    "$e^{\\frac{-E}{kT}}$|-|$10^{-10}$ (for E = 0.6)?\n",
    "$a_{ij}(m_{i},T)$|$M^{-1}$|$10^{-3}$ to $10^{3}$"
   ]
  },
  {
   "cell_type": "markdown",
   "id": "1420b0d0",
   "metadata": {},
   "source": [
    "According to DeLong the scaling exponent $\\alpha$ for prokaryotes lies between 1.65 and 2.14 and not -0.75 like in vertebrates (Kleiber's Law). So, $\\alpha-1$ would be between 0.65 and 1.14. Knowing $\\alpha$ is important to determine the possible values of $Y_{0}$. <br>\n",
    "If we assume that $0.6 < \\alpha-1 < 1$, $m_{i}^{\\alpha-1}$ lies between $10^{-8}$ and $10^{-11}$ and with the temperature correction being around $10^{-10}$, $Y_{0}$ has to be at least $10^{18}$ and $10^{21}$ to obtain a realistic growth rate (~1)."
   ]
  },
  {
   "cell_type": "code",
   "execution_count": 47,
   "id": "6e646779",
   "metadata": {},
   "outputs": [
    {
     "name": "stdout",
     "output_type": "stream",
     "text": [
      "1.7725900001861085e-10\n"
     ]
    }
   ],
   "source": [
    "Tcorr = math.exp(-0.6/(8.62*10**(-5)*310)) #Temperature correction\n",
    "print(Tcorr)"
   ]
  },
  {
   "cell_type": "code",
   "execution_count": 122,
   "id": "b0d90117",
   "metadata": {},
   "outputs": [
    {
     "name": "stdout",
     "output_type": "stream",
     "text": [
      "[[-1.          0.34124999  0.42741437 -0.25634909  0.20119197  0.46813865\n",
      "   0.31765685]\n",
      " [-0.37266885 -1.          0.4004799   0.03386146 -0.29162157 -0.01312167\n",
      "  -0.19079516]\n",
      " [ 0.37159668  0.43437204 -1.          0.37616038 -0.05893418  0.45675496\n",
      "   0.29292594]\n",
      " [ 0.19940819 -0.01984806  0.3489263  -1.          0.04068461  0.15155817\n",
      "   0.49315364]\n",
      " [ 0.24198474  0.0100181  -0.22594562  0.29773088 -1.         -0.42695259\n",
      "   0.17234872]\n",
      " [ 0.01094016  0.32900525 -0.02941432 -0.23104166 -0.48386986  0.10657415\n",
      "   0.11424946]\n",
      " [ 0.38171448 -0.45347455 -0.40379793 -0.08045491 -0.33900068 -0.09774892\n",
      "   0.46093404]]\n",
      "[9.57519216e-13 9.68813734e-13 1.05071189e-12 9.37820853e-13\n",
      " 1.17825257e-12 1.03584999e-12 9.78152538e-13]\n"
     ]
    },
    {
     "data": {
      "text/plain": [
       "Text(0, 0.5, 'Population size')"
      ]
     },
     "execution_count": 122,
     "metadata": {},
     "output_type": "execute_result"
    },
    {
     "data": {
      "image/png": "[encoded data removed]",
      "text/plain": [
       "<Figure size 432x288 with 1 Axes>"
      ]
     },
     "metadata": {},
     "output_type": "display_data"
    }
   ],
   "source": [
    "#parameters\n",
    "t_vec = np.arange(0, 100., 0.01)\n",
    "Y0 = 1.5*10**18\n",
    "alpha = 1.7\n",
    "Tcorr = math.exp(-0.6/(8.62*10**(-5)*310))\n",
    "Species = 7 #number of species in the system\n",
    "m=random.normal(loc=1000, scale = 100, size=(Species))/(1000)*10**(-12) #random gaussian distributed mass of species ranging from 0.6*10^-12g to 1.4*10^-12g\n",
    "a = (random.rand(Species,Species)-0.5) #competition matrix\n",
    "for i in range(5):\n",
    "    a[i][i] = -1 #Diagonals = -1 (Carrying Capacity)\n",
    "\n",
    "#initial condition\n",
    "N10N20 = np.ones(Species)\n",
    "\n",
    "#model and solution\n",
    "def LV(N1N2, t, r_m2, a):\n",
    "    dN_dt = np.empty(Species)\n",
    "    for i in range(Species):\n",
    "        dN_dt[i] = N1N2[i]*Y0*m[i]**(alpha-1)*Tcorr*(1 + sumf(a, N1N2, i))\n",
    "    return dN_dt\n",
    "\n",
    "N1N2_vec = integrate.odeint(LV, N10N20, t_vec, (r_m, a))\n",
    "\n",
    "print(a)\n",
    "print(m)\n",
    "#plot\n",
    "p.style.use('seaborn-darkgrid')\n",
    "p.plot(t_vec, N1N2_vec)\n",
    "p.xlabel('Time')\n",
    "p.ylabel('Population size')\n",
    "#p.legend(['Species 1 ($N1$)', 'Species 2 ($N2$)', 'Species 3 ($N3$)', 'Species 4 ($N$)', 'Species 5 ($N$)'], loc='best')"
   ]
  },
  {
   "cell_type": "code",
   "execution_count": 123,
   "id": "a160a856",
   "metadata": {},
   "outputs": [
    {
     "name": "stdout",
     "output_type": "stream",
     "text": [
      "1.0268400590201365\n",
      "1.035303673106722\n",
      "1.0958171843792628\n",
      "1.0120069003443488\n",
      "1.187316305252706\n",
      "1.0849440941493913\n",
      "1.0422794239659312\n"
     ]
    },
    {
     "data": {
      "text/plain": [
       "(<seaborn.axisgrid.FacetGrid at 0x177ff2f3b80>,\n",
       " array([9.57519216e-13, 9.68813734e-13, 1.05071189e-12, 9.37820853e-13,\n",
       "        1.17825257e-12, 1.03584999e-12, 9.78152538e-13]))"
      ]
     },
     "execution_count": 123,
     "metadata": {},
     "output_type": "execute_result"
    },
    {
     "data": {
      "image/png": "[encoded data removed]",
      "text/plain": [
       "<Figure size 360x360 with 1 Axes>"
      ]
     },
     "metadata": {},
     "output_type": "display_data"
    }
   ],
   "source": [
    "for i in range(Species):\n",
    "    x=Y0*m[i]**(alpha-1)*Tcorr\n",
    "    print(x)\n",
    "\n",
    "sns.displot(m, kind = 'kde'), m"
   ]
  },
  {
   "cell_type": "code",
   "execution_count": null,
   "id": "a22d5c6d",
   "metadata": {},
   "outputs": [],
   "source": []
  }
 ],
 "metadata": {
  "kernelspec": {
   "display_name": "Python 3 (ipykernel)",
   "language": "python",
   "name": "python3"
  },
  "language_info": {
   "codemirror_mode": {
    "name": "ipython",
    "version": 3
   },
   "file_extension": ".py",
   "mimetype": "text/x-python",
   "name": "python",
   "nbconvert_exporter": "python",
   "pygments_lexer": "ipython3",
   "version": "3.9.7"
  }
 },
 "nbformat": 4,
 "nbformat_minor": 5
}
